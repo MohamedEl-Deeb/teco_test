{
 "cells": [
  {
   "cell_type": "markdown",
   "metadata": {},
   "source": [
    "# <font color='darkred'>Telco Churn Predication</font>"
   ]
  },
  {
   "cell_type": "markdown",
   "metadata": {},
   "source": [
    "## Appendix\n",
    "- Click on the links:\n",
    ">1. <a href=#imports>Imports</a>\n",
    ">2. <a href=#load>Load Data</a>\n",
    ">3. <a href=#Formating>Data Formating</a>\n",
    ">4. <a href=#valid>Validate Assumption(Optional If exist)</a>\n",
    ">5. <a href=#EDA1>Exploratory Data Analysis (Uni-variable)</a>\n",
    ">6. <a href=#EDA2>Exploratory Data Analysis (muli-variable-relationships)</a>\n",
    ">7. <a href=#ques>Questions & Insights</a>\n",
    ">8. <a href=#con>Conculsion</a>"
   ]
  },
  {
   "cell_type": "markdown",
   "metadata": {},
   "source": [
    "### Company Background:\n",
    "\n",
    "Saudi Telecom Company (STC) is a Saudi Arabia-based digital company that offers telecommunications services, landline, mobile, Internet services, enterprise digital solutions, entertainment, fintech, and computer networks\n",
    "\n",
    "### Motivation:\n",
    "STC has a problem with retaining its customers due to new competitors emerging in the market (Virgin, Mobily, etc..) so we will try to offer some analysis to diagnosis the behavior of the churned customers so that we can first address these problems as organizational challenges to improve our services as well as identify common behaviors in churned customers\n",
    "\n"
   ]
  },
  {
   "cell_type": "markdown",
   "metadata": {},
   "source": [
    "### Data Description\n",
    "\n",
    ">I will be using the Telco Customer Churn “Focused customer retention programs” Dataset from Kaggle that can be found [here](https://www.kaggle.com/blastchar/telco-customer-churn).\n",
    "This was uploaded for examining customer retention and predicting churn and will be well suited to this study\n",
    "\n",
    "The data contains more than **7043** row each row represents a customer and **22** features included in our analysis.\n",
    "#### Features\n",
    ">- customerID: A unique identifier for each cutomer\n",
    ">- gender: Whether the customer is a male or a female\n",
    ">- SeniorCitizen: Whether the customer is a senior citizen or not (1, 0)\n",
    ">- Partner: Whether the customer has a partner or not (Yes, No)\n",
    ">- Dependents: Whether the customer has dependents or not (Yes, No)\n",
    ">- tenureNumber of months the customer has stayed with the company\n",
    ">- PhoneService: Whether the customer has a phone service or not (Yes, No)\n",
    ">- MultipleLines: Whether the customer has multiple lines or not (Yes, No, No phone service)\n",
    ">- InternetServiceCustomer’s internet service provider (DSL, Fiber optic, No)\n",
    ">- OnlineSecurity: Whether the customer has online security or not (Yes, No, No internet service)\n",
    ">- OnlineBackup: Whether the customer has online backup or not (Yes, No, No internet service)\n",
    ">- DeviceProtection: Whether the customer has device protection or not (Yes, No, No internet service)\n",
    ">- TechSupport: Whether the customer has tech support or not (Yes, No, No internet service)\n",
    ">- StreamingTV: Whether the customer has streaming TV or not (Yes, No, No internet service)\n",
    ">- StreamingMovies: Whether the customer has streaming movies or not (Yes, No, No internet service)\n",
    ">- ContractThe contract term of the customer (Month-to-month, One year, Two year)\n",
    ">- PaperlessBilling: Whether the customer has paperless billing or not (Yes, No)\n",
    ">- PaymentMethod: The customer’s payment method (Electronic check, Mailed check, Bank transfer (automatic), Credit card (automatic))\n",
    ">- MonthlyCharges: The amount charged to the customer monthly • TotalCharges`: The total amount charged to the customer\n",
    ">- Churn: Whether the customer churned or not (Yes or No)\n",
    "An imbalance can be observed in the target label as the number of lost customers are 1890 rows while the number of non-churn customers are 5174 rows"
   ]
  },
  {
   "cell_type": "markdown",
   "metadata": {},
   "source": [
    "# <a name='imports' >Libraries Imports</a>"
   ]
  },
  {
   "cell_type": "code",
   "execution_count": 1,
   "metadata": {},
   "outputs": [
    {
     "name": "stdout",
     "output_type": "stream",
     "text": [
      "Importing.....[Done]\n"
     ]
    }
   ],
   "source": [
    "# Data Analysis Libs\n",
    "print(\"Importing.....\", end=\"\", flush=True)\n",
    "import pandas as pd\n",
    "import numpy as np\n",
    "import matplotlib.pyplot as plt\n",
    "import seaborn as sns\n",
    "%matplotlib inline\n",
    "\n",
    "# Suppress warnings \n",
    "import warnings\n",
    "warnings.filterwarnings('ignore')\n",
    "print(\"[Done]\")"
   ]
  },
  {
   "cell_type": "markdown",
   "metadata": {},
   "source": [
    "# <a name='LoadData' >Load Data</a>"
   ]
  },
  {
   "cell_type": "code",
   "execution_count": 13,
   "metadata": {
    "scrolled": true
   },
   "outputs": [
    {
     "data": {
      "text/html": [
       "<div>\n",
       "<style scoped>\n",
       "    .dataframe tbody tr th:only-of-type {\n",
       "        vertical-align: middle;\n",
       "    }\n",
       "\n",
       "    .dataframe tbody tr th {\n",
       "        vertical-align: top;\n",
       "    }\n",
       "\n",
       "    .dataframe thead th {\n",
       "        text-align: right;\n",
       "    }\n",
       "</style>\n",
       "<table border=\"1\" class=\"dataframe\">\n",
       "  <thead>\n",
       "    <tr style=\"text-align: right;\">\n",
       "      <th></th>\n",
       "      <th>customerID</th>\n",
       "      <th>gender</th>\n",
       "      <th>SeniorCitizen</th>\n",
       "      <th>Partner</th>\n",
       "      <th>Dependents</th>\n",
       "      <th>tenure</th>\n",
       "      <th>PhoneService</th>\n",
       "      <th>MultipleLines</th>\n",
       "      <th>InternetService</th>\n",
       "      <th>OnlineSecurity</th>\n",
       "      <th>...</th>\n",
       "      <th>DeviceProtection</th>\n",
       "      <th>TechSupport</th>\n",
       "      <th>StreamingTV</th>\n",
       "      <th>StreamingMovies</th>\n",
       "      <th>Contract</th>\n",
       "      <th>PaperlessBilling</th>\n",
       "      <th>PaymentMethod</th>\n",
       "      <th>MonthlyCharges</th>\n",
       "      <th>TotalCharges</th>\n",
       "      <th>Churn</th>\n",
       "    </tr>\n",
       "  </thead>\n",
       "  <tbody>\n",
       "    <tr>\n",
       "      <th>0</th>\n",
       "      <td>7590-VHVEG</td>\n",
       "      <td>Female</td>\n",
       "      <td>0</td>\n",
       "      <td>Yes</td>\n",
       "      <td>No</td>\n",
       "      <td>1.0</td>\n",
       "      <td>No</td>\n",
       "      <td>No phone service</td>\n",
       "      <td>DSL</td>\n",
       "      <td>No</td>\n",
       "      <td>...</td>\n",
       "      <td>No</td>\n",
       "      <td>NaN</td>\n",
       "      <td>No</td>\n",
       "      <td>No</td>\n",
       "      <td>Month-to-month</td>\n",
       "      <td>Yes</td>\n",
       "      <td>Electronic check</td>\n",
       "      <td>29.85</td>\n",
       "      <td>$29.85</td>\n",
       "      <td>No</td>\n",
       "    </tr>\n",
       "    <tr>\n",
       "      <th>1</th>\n",
       "      <td>5575-GNVDE</td>\n",
       "      <td>Male</td>\n",
       "      <td>0</td>\n",
       "      <td>No</td>\n",
       "      <td>No</td>\n",
       "      <td>34.0</td>\n",
       "      <td>Yes</td>\n",
       "      <td>No</td>\n",
       "      <td>DSL</td>\n",
       "      <td>Yes</td>\n",
       "      <td>...</td>\n",
       "      <td>Yes</td>\n",
       "      <td>NaN</td>\n",
       "      <td>No</td>\n",
       "      <td>No</td>\n",
       "      <td>One year</td>\n",
       "      <td>No</td>\n",
       "      <td>Mailed check</td>\n",
       "      <td>56.95</td>\n",
       "      <td>$1,889.50</td>\n",
       "      <td>No</td>\n",
       "    </tr>\n",
       "    <tr>\n",
       "      <th>2</th>\n",
       "      <td>3668-QPYBK</td>\n",
       "      <td>Male</td>\n",
       "      <td>0</td>\n",
       "      <td>No</td>\n",
       "      <td>No</td>\n",
       "      <td>2.0</td>\n",
       "      <td>Yes</td>\n",
       "      <td>No</td>\n",
       "      <td>DSL</td>\n",
       "      <td>Yes</td>\n",
       "      <td>...</td>\n",
       "      <td>No</td>\n",
       "      <td>NaN</td>\n",
       "      <td>No</td>\n",
       "      <td>No</td>\n",
       "      <td>Month-to-month</td>\n",
       "      <td>Yes</td>\n",
       "      <td>Mailed check</td>\n",
       "      <td>53.85</td>\n",
       "      <td>$108.15</td>\n",
       "      <td>Yes</td>\n",
       "    </tr>\n",
       "    <tr>\n",
       "      <th>3</th>\n",
       "      <td>7795-CFOCW</td>\n",
       "      <td>Male</td>\n",
       "      <td>0</td>\n",
       "      <td>No</td>\n",
       "      <td>No</td>\n",
       "      <td>45.0</td>\n",
       "      <td>No</td>\n",
       "      <td>No phone service</td>\n",
       "      <td>DSL</td>\n",
       "      <td>Yes</td>\n",
       "      <td>...</td>\n",
       "      <td>Yes</td>\n",
       "      <td>NaN</td>\n",
       "      <td>No</td>\n",
       "      <td>No</td>\n",
       "      <td>One year</td>\n",
       "      <td>No</td>\n",
       "      <td>Bank transfer (automatic)</td>\n",
       "      <td>42.30</td>\n",
       "      <td>$1,840.75</td>\n",
       "      <td>No</td>\n",
       "    </tr>\n",
       "    <tr>\n",
       "      <th>4</th>\n",
       "      <td>9237-HQITU</td>\n",
       "      <td>Female</td>\n",
       "      <td>0</td>\n",
       "      <td>No</td>\n",
       "      <td>No</td>\n",
       "      <td>2.0</td>\n",
       "      <td>Yes</td>\n",
       "      <td>No</td>\n",
       "      <td>Fiber optic</td>\n",
       "      <td>No</td>\n",
       "      <td>...</td>\n",
       "      <td>No</td>\n",
       "      <td>NaN</td>\n",
       "      <td>No</td>\n",
       "      <td>No</td>\n",
       "      <td>Month-to-month</td>\n",
       "      <td>Yes</td>\n",
       "      <td>Electronic check</td>\n",
       "      <td>70.70</td>\n",
       "      <td>$151.65</td>\n",
       "      <td>Yes</td>\n",
       "    </tr>\n",
       "  </tbody>\n",
       "</table>\n",
       "<p>5 rows × 21 columns</p>\n",
       "</div>"
      ],
      "text/plain": [
       "   customerID  gender  SeniorCitizen Partner Dependents  tenure PhoneService  \\\n",
       "0  7590-VHVEG  Female              0     Yes         No     1.0           No   \n",
       "1  5575-GNVDE    Male              0      No         No    34.0          Yes   \n",
       "2  3668-QPYBK    Male              0      No         No     2.0          Yes   \n",
       "3  7795-CFOCW    Male              0      No         No    45.0           No   \n",
       "4  9237-HQITU  Female              0      No         No     2.0          Yes   \n",
       "\n",
       "      MultipleLines InternetService OnlineSecurity  ... DeviceProtection  \\\n",
       "0  No phone service             DSL             No  ...               No   \n",
       "1                No             DSL            Yes  ...              Yes   \n",
       "2                No             DSL            Yes  ...               No   \n",
       "3  No phone service             DSL            Yes  ...              Yes   \n",
       "4                No     Fiber optic             No  ...               No   \n",
       "\n",
       "  TechSupport StreamingTV StreamingMovies        Contract PaperlessBilling  \\\n",
       "0         NaN          No              No  Month-to-month              Yes   \n",
       "1         NaN          No              No        One year               No   \n",
       "2         NaN          No              No  Month-to-month              Yes   \n",
       "3         NaN          No              No        One year               No   \n",
       "4         NaN          No              No  Month-to-month              Yes   \n",
       "\n",
       "               PaymentMethod MonthlyCharges  TotalCharges Churn  \n",
       "0           Electronic check          29.85       $29.85     No  \n",
       "1               Mailed check          56.95    $1,889.50     No  \n",
       "2               Mailed check          53.85      $108.15    Yes  \n",
       "3  Bank transfer (automatic)          42.30    $1,840.75     No  \n",
       "4           Electronic check          70.70      $151.65    Yes  \n",
       "\n",
       "[5 rows x 21 columns]"
      ]
     },
     "execution_count": 13,
     "metadata": {},
     "output_type": "execute_result"
    }
   ],
   "source": [
    "df = pd.read_csv(\"WA_Fn-UseC_-Telco-Customer-Churn.csv\", na_values=\"Naaaa\")\n",
    "df.head()"
   ]
  },
  {
   "cell_type": "code",
   "execution_count": 14,
   "metadata": {},
   "outputs": [
    {
     "name": "stdout",
     "output_type": "stream",
     "text": [
      "<class 'pandas.core.frame.DataFrame'>\n",
      "RangeIndex: 7043 entries, 0 to 7042\n",
      "Data columns (total 21 columns):\n",
      " #   Column            Non-Null Count  Dtype  \n",
      "---  ------            --------------  -----  \n",
      " 0   customerID        7043 non-null   object \n",
      " 1   gender            7043 non-null   object \n",
      " 2   SeniorCitizen     7043 non-null   int64  \n",
      " 3   Partner           6948 non-null   object \n",
      " 4   Dependents        6948 non-null   object \n",
      " 5   tenure            6948 non-null   float64\n",
      " 6   PhoneService      6948 non-null   object \n",
      " 7   MultipleLines     6948 non-null   object \n",
      " 8   InternetService   6948 non-null   object \n",
      " 9   OnlineSecurity    6948 non-null   object \n",
      " 10  OnlineBackup      6948 non-null   object \n",
      " 11  DeviceProtection  6948 non-null   object \n",
      " 12  TechSupport       410 non-null    object \n",
      " 13  StreamingTV       6948 non-null   object \n",
      " 14  StreamingMovies   6948 non-null   object \n",
      " 15  Contract          6948 non-null   object \n",
      " 16  PaperlessBilling  6948 non-null   object \n",
      " 17  PaymentMethod     6948 non-null   object \n",
      " 18  MonthlyCharges    6948 non-null   float64\n",
      " 19  TotalCharges      6948 non-null   object \n",
      " 20  Churn             7043 non-null   object \n",
      "dtypes: float64(2), int64(1), object(18)\n",
      "memory usage: 1.1+ MB\n"
     ]
    }
   ],
   "source": [
    "df.info()"
   ]
  },
  {
   "cell_type": "markdown",
   "metadata": {},
   "source": [
    "# <a name='Formating' >Data Formating</a>"
   ]
  },
  {
   "cell_type": "code",
   "execution_count": 25,
   "metadata": {},
   "outputs": [],
   "source": [
    "df[\"TotalCharges\"] = df[\"TotalCharges\"].str.replace(\"$\",\"\").str.replace(\",\",\"\")\n",
    "df[\"TotalCharges\"] = pd.to_numeric(df[\"TotalCharges\"],errors='coerce')"
   ]
  },
  {
   "cell_type": "code",
   "execution_count": 28,
   "metadata": {},
   "outputs": [],
   "source": [
    "df['SeniorCitizen'] = df[\"SeniorCitizen\"].map({0: 'No', 1: 'Yes'},na_action='ignore')"
   ]
  },
  {
   "cell_type": "code",
   "execution_count": 29,
   "metadata": {},
   "outputs": [
    {
     "name": "stdout",
     "output_type": "stream",
     "text": [
      "<class 'pandas.core.frame.DataFrame'>\n",
      "RangeIndex: 7043 entries, 0 to 7042\n",
      "Data columns (total 21 columns):\n",
      " #   Column            Non-Null Count  Dtype  \n",
      "---  ------            --------------  -----  \n",
      " 0   customerID        7043 non-null   object \n",
      " 1   gender            7043 non-null   object \n",
      " 2   SeniorCitizen     7043 non-null   object \n",
      " 3   Partner           6948 non-null   object \n",
      " 4   Dependents        6948 non-null   object \n",
      " 5   tenure            6948 non-null   float64\n",
      " 6   PhoneService      6948 non-null   object \n",
      " 7   MultipleLines     6948 non-null   object \n",
      " 8   InternetService   6948 non-null   object \n",
      " 9   OnlineSecurity    6948 non-null   object \n",
      " 10  OnlineBackup      6948 non-null   object \n",
      " 11  DeviceProtection  6948 non-null   object \n",
      " 12  TechSupport       410 non-null    object \n",
      " 13  StreamingTV       6948 non-null   object \n",
      " 14  StreamingMovies   6948 non-null   object \n",
      " 15  Contract          6948 non-null   object \n",
      " 16  PaperlessBilling  6948 non-null   object \n",
      " 17  PaymentMethod     6948 non-null   object \n",
      " 18  MonthlyCharges    6948 non-null   float64\n",
      " 19  TotalCharges      6937 non-null   float64\n",
      " 20  Churn             7043 non-null   object \n",
      "dtypes: float64(3), object(18)\n",
      "memory usage: 1.1+ MB\n"
     ]
    }
   ],
   "source": [
    "df.info()"
   ]
  },
  {
   "cell_type": "markdown",
   "metadata": {},
   "source": [
    "# <a name='valid' >Validate Assumption</a>"
   ]
  },
  {
   "cell_type": "code",
   "execution_count": 9,
   "metadata": {},
   "outputs": [
    {
     "data": {
      "text/plain": [
       "4"
      ]
     },
     "execution_count": 9,
     "metadata": {},
     "output_type": "execute_result"
    }
   ],
   "source": [
    "df[\"Contract\"].nunique()"
   ]
  },
  {
   "cell_type": "code",
   "execution_count": 12,
   "metadata": {},
   "outputs": [
    {
     "name": "stdout",
     "output_type": "stream",
     "text": [
      "customerID : 7043 , more than 10\n",
      "gender : 2 , ['Female' 'Male']\n",
      "SeniorCitizen : 2 , [0 1]\n",
      "Partner : 3 , ['Yes' 'No' 'Naaaa']\n",
      "Dependents : 3 , ['No' 'Yes' 'Naaaa']\n",
      "tenure : 74 , more than 10\n",
      "PhoneService : 3 , ['No' 'Yes' 'Naaaa']\n",
      "MultipleLines : 4 , ['No phone service' 'No' 'Yes' 'Naaaa']\n",
      "InternetService : 4 , ['DSL' 'Fiber optic' 'No' 'Naaaa']\n",
      "OnlineSecurity : 4 , ['No' 'Yes' 'No internet service' 'Naaaa']\n",
      "OnlineBackup : 4 , ['Yes' 'No' 'No internet service' 'Naaaa']\n",
      "DeviceProtection : 4 , ['No' 'Yes' 'No internet service' 'Naaaa']\n",
      "TechSupport : 4 , ['Naaaa' 'No' 'No internet service' 'Yes']\n",
      "StreamingTV : 4 , ['No' 'Yes' 'No internet service' 'Naaaa']\n",
      "StreamingMovies : 4 , ['No' 'Yes' 'No internet service' 'Naaaa']\n",
      "Contract : 4 , ['Month-to-month' 'One year' 'Two year' 'Naaaa']\n",
      "PaperlessBilling : 3 , ['Yes' 'No' 'Naaaa']\n",
      "PaymentMethod : 5 , ['Electronic check' 'Mailed check' 'Bank transfer (automatic)'\n",
      " 'Credit card (automatic)' 'Naaaa']\n",
      "MonthlyCharges : 1581 , more than 10\n",
      "TotalCharges : 6449 , more than 10\n",
      "Churn : 2 , ['No' 'Yes']\n"
     ]
    }
   ],
   "source": [
    "for col in df.columns.to_list():\n",
    "    num_uniq = df[col].nunique()\n",
    "    if num_uniq <= 10:\n",
    "        uniq_list = df[col].unique()\n",
    "    else:\n",
    "        uniq_list = \"more than 10\"\n",
    "    print(col, \":\", num_uniq, \",\", uniq_list)"
   ]
  },
  {
   "cell_type": "code",
   "execution_count": null,
   "metadata": {},
   "outputs": [],
   "source": []
  }
 ],
 "metadata": {
  "kernelspec": {
   "display_name": "Python 3",
   "language": "python",
   "name": "python3"
  },
  "language_info": {
   "codemirror_mode": {
    "name": "ipython",
    "version": 3
   },
   "file_extension": ".py",
   "mimetype": "text/x-python",
   "name": "python",
   "nbconvert_exporter": "python",
   "pygments_lexer": "ipython3",
   "version": "3.7.4"
  }
 },
 "nbformat": 4,
 "nbformat_minor": 4
}
